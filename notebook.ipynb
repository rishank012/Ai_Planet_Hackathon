{
  "nbformat": 4,
  "nbformat_minor": 0,
  "metadata": {
    "colab": {
      "provenance": []
    },
    "kernelspec": {
      "name": "python3",
      "display_name": "Python 3"
    },
    "language_info": {
      "name": "python"
    }
  },
  "cells": [
    {
      "cell_type": "markdown",
      "source": [
        "# 🧠  **Ai Planet Hackathon Notebook :**\n",
        "\n",
        "_In this notebook, we train both a RandomForest and an XGBoost classifier to predict whether a person is an \"Adult\" or \"Senior\" based on their biometrics. We’ll compare F1 scores and submit the best model’s predictions._"
      ],
      "metadata": {
        "id": "cN-e4KawGxSW"
      }
    },
    {
      "cell_type": "markdown",
      "source": [
        "# Import All Important Libraries"
      ],
      "metadata": {
        "id": "-UsepWu-JgAO"
      }
    },
    {
      "cell_type": "code",
      "source": [
        "import pandas as pd\n",
        "import numpy as np\n",
        "import matplotlib.pyplot as plt\n",
        "import seaborn as sns\n",
        "\n",
        "from sklearn.model_selection import train_test_split, GridSearchCV, StratifiedKFold\n",
        "from sklearn.impute import SimpleImputer\n",
        "from sklearn.preprocessing import StandardScaler\n",
        "from sklearn.pipeline import Pipeline\n",
        "from sklearn.ensemble import RandomForestClassifier\n",
        "from sklearn.metrics import f1_score, make_scorer\n",
        "import xgboost as xgb\n",
        "\n",
        "%matplotlib inline\n",
        "sns.set_style(\"whitegrid\")"
      ],
      "metadata": {
        "id": "SGHjg2ouMBwl"
      },
      "execution_count": 10,
      "outputs": []
    },
    {
      "cell_type": "markdown",
      "source": [
        "# Upload Data Files"
      ],
      "metadata": {
        "id": "r39flUhqMQbs"
      }
    },
    {
      "cell_type": "code",
      "source": [
        "from google.colab import files\n",
        "\n",
        "# This will prompt you to upload 'Train_Data.csv' and 'Test_Data.csv'\n",
        "uploaded = files.upload()\n",
        "\n",
        "# Confirm upload\n",
        "print(\"Uploaded files:\", uploaded.keys())"
      ],
      "metadata": {
        "colab": {
          "base_uri": "https://localhost:8080/",
          "height": 125
        },
        "id": "A-u-4tqIMfV3",
        "outputId": "12bdc56c-6f71-4cd3-9c53-60243baa840d"
      },
      "execution_count": 9,
      "outputs": [
        {
          "output_type": "display_data",
          "data": {
            "text/plain": [
              "<IPython.core.display.HTML object>"
            ],
            "text/html": [
              "\n",
              "     <input type=\"file\" id=\"files-b98aba05-6f14-4113-bae2-056ce11b67e9\" name=\"files[]\" multiple disabled\n",
              "        style=\"border:none\" />\n",
              "     <output id=\"result-b98aba05-6f14-4113-bae2-056ce11b67e9\">\n",
              "      Upload widget is only available when the cell has been executed in the\n",
              "      current browser session. Please rerun this cell to enable.\n",
              "      </output>\n",
              "      <script>// Copyright 2017 Google LLC\n",
              "//\n",
              "// Licensed under the Apache License, Version 2.0 (the \"License\");\n",
              "// you may not use this file except in compliance with the License.\n",
              "// You may obtain a copy of the License at\n",
              "//\n",
              "//      http://www.apache.org/licenses/LICENSE-2.0\n",
              "//\n",
              "// Unless required by applicable law or agreed to in writing, software\n",
              "// distributed under the License is distributed on an \"AS IS\" BASIS,\n",
              "// WITHOUT WARRANTIES OR CONDITIONS OF ANY KIND, either express or implied.\n",
              "// See the License for the specific language governing permissions and\n",
              "// limitations under the License.\n",
              "\n",
              "/**\n",
              " * @fileoverview Helpers for google.colab Python module.\n",
              " */\n",
              "(function(scope) {\n",
              "function span(text, styleAttributes = {}) {\n",
              "  const element = document.createElement('span');\n",
              "  element.textContent = text;\n",
              "  for (const key of Object.keys(styleAttributes)) {\n",
              "    element.style[key] = styleAttributes[key];\n",
              "  }\n",
              "  return element;\n",
              "}\n",
              "\n",
              "// Max number of bytes which will be uploaded at a time.\n",
              "const MAX_PAYLOAD_SIZE = 100 * 1024;\n",
              "\n",
              "function _uploadFiles(inputId, outputId) {\n",
              "  const steps = uploadFilesStep(inputId, outputId);\n",
              "  const outputElement = document.getElementById(outputId);\n",
              "  // Cache steps on the outputElement to make it available for the next call\n",
              "  // to uploadFilesContinue from Python.\n",
              "  outputElement.steps = steps;\n",
              "\n",
              "  return _uploadFilesContinue(outputId);\n",
              "}\n",
              "\n",
              "// This is roughly an async generator (not supported in the browser yet),\n",
              "// where there are multiple asynchronous steps and the Python side is going\n",
              "// to poll for completion of each step.\n",
              "// This uses a Promise to block the python side on completion of each step,\n",
              "// then passes the result of the previous step as the input to the next step.\n",
              "function _uploadFilesContinue(outputId) {\n",
              "  const outputElement = document.getElementById(outputId);\n",
              "  const steps = outputElement.steps;\n",
              "\n",
              "  const next = steps.next(outputElement.lastPromiseValue);\n",
              "  return Promise.resolve(next.value.promise).then((value) => {\n",
              "    // Cache the last promise value to make it available to the next\n",
              "    // step of the generator.\n",
              "    outputElement.lastPromiseValue = value;\n",
              "    return next.value.response;\n",
              "  });\n",
              "}\n",
              "\n",
              "/**\n",
              " * Generator function which is called between each async step of the upload\n",
              " * process.\n",
              " * @param {string} inputId Element ID of the input file picker element.\n",
              " * @param {string} outputId Element ID of the output display.\n",
              " * @return {!Iterable<!Object>} Iterable of next steps.\n",
              " */\n",
              "function* uploadFilesStep(inputId, outputId) {\n",
              "  const inputElement = document.getElementById(inputId);\n",
              "  inputElement.disabled = false;\n",
              "\n",
              "  const outputElement = document.getElementById(outputId);\n",
              "  outputElement.innerHTML = '';\n",
              "\n",
              "  const pickedPromise = new Promise((resolve) => {\n",
              "    inputElement.addEventListener('change', (e) => {\n",
              "      resolve(e.target.files);\n",
              "    });\n",
              "  });\n",
              "\n",
              "  const cancel = document.createElement('button');\n",
              "  inputElement.parentElement.appendChild(cancel);\n",
              "  cancel.textContent = 'Cancel upload';\n",
              "  const cancelPromise = new Promise((resolve) => {\n",
              "    cancel.onclick = () => {\n",
              "      resolve(null);\n",
              "    };\n",
              "  });\n",
              "\n",
              "  // Wait for the user to pick the files.\n",
              "  const files = yield {\n",
              "    promise: Promise.race([pickedPromise, cancelPromise]),\n",
              "    response: {\n",
              "      action: 'starting',\n",
              "    }\n",
              "  };\n",
              "\n",
              "  cancel.remove();\n",
              "\n",
              "  // Disable the input element since further picks are not allowed.\n",
              "  inputElement.disabled = true;\n",
              "\n",
              "  if (!files) {\n",
              "    return {\n",
              "      response: {\n",
              "        action: 'complete',\n",
              "      }\n",
              "    };\n",
              "  }\n",
              "\n",
              "  for (const file of files) {\n",
              "    const li = document.createElement('li');\n",
              "    li.append(span(file.name, {fontWeight: 'bold'}));\n",
              "    li.append(span(\n",
              "        `(${file.type || 'n/a'}) - ${file.size} bytes, ` +\n",
              "        `last modified: ${\n",
              "            file.lastModifiedDate ? file.lastModifiedDate.toLocaleDateString() :\n",
              "                                    'n/a'} - `));\n",
              "    const percent = span('0% done');\n",
              "    li.appendChild(percent);\n",
              "\n",
              "    outputElement.appendChild(li);\n",
              "\n",
              "    const fileDataPromise = new Promise((resolve) => {\n",
              "      const reader = new FileReader();\n",
              "      reader.onload = (e) => {\n",
              "        resolve(e.target.result);\n",
              "      };\n",
              "      reader.readAsArrayBuffer(file);\n",
              "    });\n",
              "    // Wait for the data to be ready.\n",
              "    let fileData = yield {\n",
              "      promise: fileDataPromise,\n",
              "      response: {\n",
              "        action: 'continue',\n",
              "      }\n",
              "    };\n",
              "\n",
              "    // Use a chunked sending to avoid message size limits. See b/62115660.\n",
              "    let position = 0;\n",
              "    do {\n",
              "      const length = Math.min(fileData.byteLength - position, MAX_PAYLOAD_SIZE);\n",
              "      const chunk = new Uint8Array(fileData, position, length);\n",
              "      position += length;\n",
              "\n",
              "      const base64 = btoa(String.fromCharCode.apply(null, chunk));\n",
              "      yield {\n",
              "        response: {\n",
              "          action: 'append',\n",
              "          file: file.name,\n",
              "          data: base64,\n",
              "        },\n",
              "      };\n",
              "\n",
              "      let percentDone = fileData.byteLength === 0 ?\n",
              "          100 :\n",
              "          Math.round((position / fileData.byteLength) * 100);\n",
              "      percent.textContent = `${percentDone}% done`;\n",
              "\n",
              "    } while (position < fileData.byteLength);\n",
              "  }\n",
              "\n",
              "  // All done.\n",
              "  yield {\n",
              "    response: {\n",
              "      action: 'complete',\n",
              "    }\n",
              "  };\n",
              "}\n",
              "\n",
              "scope.google = scope.google || {};\n",
              "scope.google.colab = scope.google.colab || {};\n",
              "scope.google.colab._files = {\n",
              "  _uploadFiles,\n",
              "  _uploadFilesContinue,\n",
              "};\n",
              "})(self);\n",
              "</script> "
            ]
          },
          "metadata": {}
        },
        {
          "output_type": "stream",
          "name": "stdout",
          "text": [
            "Saving Test_Data.csv to Test_Data.csv\n",
            "Saving Train_Data.csv to Train_Data.csv\n",
            "Uploaded files: dict_keys(['Test_Data.csv', 'Train_Data.csv'])\n"
          ]
        }
      ]
    },
    {
      "cell_type": "markdown",
      "source": [
        "# Load Datasets"
      ],
      "metadata": {
        "id": "949ONEnLMrXY"
      }
    },
    {
      "cell_type": "code",
      "source": [
        "train_df = pd.read_csv('Train_Data.csv')\n",
        "test_df  = pd.read_csv('Test_Data.csv')\n",
        "\n",
        "print(\"✅ Training data shape:\", train_df.shape)\n",
        "print(\"✅ Test data shape:    \", test_df.shape)"
      ],
      "metadata": {
        "colab": {
          "base_uri": "https://localhost:8080/"
        },
        "id": "RJOjMmkRNGwj",
        "outputId": "033c0f89-3535-4d5d-ed98-03ac6a0d9235"
      },
      "execution_count": 11,
      "outputs": [
        {
          "output_type": "stream",
          "name": "stdout",
          "text": [
            "✅ Training data shape: (1966, 9)\n",
            "✅ Test data shape:     (312, 8)\n"
          ]
        }
      ]
    },
    {
      "cell_type": "markdown",
      "source": [
        "# Target Mapping & Cleaning"
      ],
      "metadata": {
        "id": "xienO-cuNoBE"
      }
    },
    {
      "cell_type": "code",
      "source": [
        "if train_df['age_group'].dtype == 'object':\n",
        "    train_df['age_group'] = train_df['age_group'].map({'Adult': 0, 'Senior': 1})\n",
        "    if train_df['age_group'].isnull().sum() > 0:\n",
        "        print(\"Warning: Some values in 'age_group' did not map correctly. Check the mapping.\")"
      ],
      "metadata": {
        "id": "6JBynoq1N4dL"
      },
      "execution_count": 13,
      "outputs": []
    },
    {
      "cell_type": "markdown",
      "source": [
        "# Drop rows with missing target values"
      ],
      "metadata": {
        "id": "dfZ8Lh60Ou0e"
      }
    },
    {
      "cell_type": "code",
      "source": [
        "if train_df['age_group'].isnull().sum() > 0:\n",
        "    print(\"Dropping rows with missing target values\")\n",
        "    train_df = train_df.dropna(subset=['age_group'])"
      ],
      "metadata": {
        "colab": {
          "base_uri": "https://localhost:8080/"
        },
        "id": "7P-fwi4qO4AJ",
        "outputId": "d95317db-b7e0-4485-c8f9-0f93a664833a"
      },
      "execution_count": 14,
      "outputs": [
        {
          "output_type": "stream",
          "name": "stdout",
          "text": [
            "Dropping rows with missing target values\n"
          ]
        }
      ]
    },
    {
      "cell_type": "markdown",
      "source": [
        "# Quick data overview"
      ],
      "metadata": {
        "id": "0oUVE8UkPASg"
      }
    },
    {
      "cell_type": "code",
      "source": [
        "print(\"Training data shape:\", train_df.shape)\n",
        "print(\"Test data shape:\", test_df.shape)\n",
        "print(\"Target distribution:\\n\", train_df['age_group'].value_counts())"
      ],
      "metadata": {
        "colab": {
          "base_uri": "https://localhost:8080/"
        },
        "id": "GuzaRN_mPIoM",
        "outputId": "f322264c-4539-4068-cdb4-36181c433a8c"
      },
      "execution_count": 15,
      "outputs": [
        {
          "output_type": "stream",
          "name": "stdout",
          "text": [
            "Training data shape: (1952, 9)\n",
            "Test data shape: (312, 8)\n",
            "Target distribution:\n",
            " age_group\n",
            "0.0    1638\n",
            "1.0     314\n",
            "Name: count, dtype: int64\n"
          ]
        }
      ]
    },
    {
      "cell_type": "markdown",
      "source": [
        "# **Exploratory Data Analysis**\n",
        "# _Visualize distributions for continuous features_"
      ],
      "metadata": {
        "id": "25cxb5DhPjiH"
      }
    },
    {
      "cell_type": "code",
      "source": [
        "continuous_features = ['BMXBMI', 'LBXGLU', 'LBXGLT', 'LBXIN']\n",
        "train_df[continuous_features].hist(bins=30, figsize=(12, 8))\n",
        "plt.tight_layout()\n",
        "plt.show()"
      ],
      "metadata": {
        "colab": {
          "base_uri": "https://localhost:8080/",
          "height": 807
        },
        "id": "lnt7jD7-PsS8",
        "outputId": "f0f293e2-cd88-4755-ce22-9d0f9f736a80"
      },
      "execution_count": 16,
      "outputs": [
        {
          "output_type": "display_data",
          "data": {
            "text/plain": [
              "<Figure size 1200x800 with 4 Axes>"
            ],
            "image/png": "[encoded data removed]"
          },
          "metadata": {}
        }
      ]
    },
    {
      "cell_type": "markdown",
      "source": [
        "# Separate Features and Target"
      ],
      "metadata": {
        "id": "j1t2GfvYRgmJ"
      }
    },
    {
      "cell_type": "code",
      "source": [
        "X = train_df.drop(columns=['SEQN', 'age_group'])\n",
        "y = train_df['age_group']"
      ],
      "metadata": {
        "id": "NJ4wDxyURp_-"
      },
      "execution_count": 17,
      "outputs": []
    },
    {
      "cell_type": "markdown",
      "source": [
        "# Pre-Imputation for Missing Values in Features"
      ],
      "metadata": {
        "id": "LdRanjvNRuAp"
      }
    },
    {
      "cell_type": "code",
      "source": [
        "imputer = SimpleImputer(strategy='median')\n",
        "X_imputed = pd.DataFrame(imputer.fit_transform(X), columns=X.columns)"
      ],
      "metadata": {
        "id": "YyInnq1VRxQd"
      },
      "execution_count": 18,
      "outputs": []
    },
    {
      "cell_type": "markdown",
      "source": [
        "# Split Data into Training and Validation Sets"
      ],
      "metadata": {
        "id": "1OFsPSL3R2JH"
      }
    },
    {
      "cell_type": "code",
      "source": [
        "X_train, X_val, y_train, y_val = train_test_split(\n",
        "    X_imputed, y, test_size=0.2, stratify=y, random_state=42)"
      ],
      "metadata": {
        "id": "o692A3njR5hM"
      },
      "execution_count": 19,
      "outputs": []
    },
    {
      "cell_type": "markdown",
      "source": [
        "# **Prepare Model Pipelines**"
      ],
      "metadata": {
        "id": "NM9pPMpSSEEw"
      }
    },
    {
      "cell_type": "markdown",
      "source": [
        "#_Pipeline for RandomForest_"
      ],
      "metadata": {
        "id": "2_Vd3WVISVxu"
      }
    },
    {
      "cell_type": "code",
      "source": [
        "pipeline_rf = Pipeline([\n",
        "    ('scaler', StandardScaler()),\n",
        "    ('rf', RandomForestClassifier(random_state=42, class_weight='balanced'))\n",
        "])"
      ],
      "metadata": {
        "id": "ozOKQ5NoSXS_"
      },
      "execution_count": 20,
      "outputs": []
    },
    {
      "cell_type": "markdown",
      "source": [
        "# _Pipeline for XGBoost_"
      ],
      "metadata": {
        "id": "IJuzitDvSd5v"
      }
    },
    {
      "cell_type": "code",
      "source": [
        "pipeline_xgb = Pipeline([\n",
        "    ('scaler', StandardScaler()),\n",
        "    ('xgb', xgb.XGBClassifier(\n",
        "        random_state=42,\n",
        "        use_label_encoder=False,\n",
        "        eval_metric='logloss'\n",
        "    ))\n",
        "])"
      ],
      "metadata": {
        "id": "0H0awX4USkth"
      },
      "execution_count": 21,
      "outputs": []
    },
    {
      "cell_type": "markdown",
      "source": [
        "# Hyperparameter Tuning using GridSearchCV\n",
        "_Create a scorer with zero_division=0 so that any undefined precision/recall returns 0_"
      ],
      "metadata": {
        "id": "YpYhYI88SpWe"
      }
    },
    {
      "cell_type": "code",
      "source": [
        "scorer = make_scorer(f1_score, zero_division=0)"
      ],
      "metadata": {
        "id": "K77RR6m9S1O6"
      },
      "execution_count": 22,
      "outputs": []
    },
    {
      "cell_type": "markdown",
      "source": [
        "# _RandomForest grid parameters_"
      ],
      "metadata": {
        "id": "O_wds7N9Twe9"
      }
    },
    {
      "cell_type": "code",
      "source": [
        "param_grid_rf = {\n",
        "    'rf__n_estimators': [100, 200, 300],\n",
        "    'rf__max_depth': [None, 10, 20, 30],\n",
        "    'rf__min_samples_split': [2, 5, 10]\n",
        "}\n",
        "\n",
        "grid_rf = GridSearchCV(\n",
        "    pipeline_rf,\n",
        "    param_grid=param_grid_rf,\n",
        "    cv=StratifiedKFold(5),\n",
        "    scoring=scorer,\n",
        "    n_jobs=-1\n",
        ")\n",
        "grid_rf.fit(X_train, y_train)\n",
        "print(\"Best parameters for RandomForest:\", grid_rf.best_params_)\n",
        "best_rf = grid_rf.best_estimator_\n",
        "val_preds_rf = best_rf.predict(X_val)\n",
        "f1_rf = f1_score(y_val, val_preds_rf, zero_division=0)\n",
        "print(\"Validation F1 Score (RandomForest): {:.4f}\".format(f1_rf))"
      ],
      "metadata": {
        "colab": {
          "base_uri": "https://localhost:8080/"
        },
        "id": "adTFDQQtTzM9",
        "outputId": "5c009d25-c402-43d3-fb88-5ec1bef5a407"
      },
      "execution_count": 23,
      "outputs": [
        {
          "output_type": "stream",
          "name": "stdout",
          "text": [
            "Best parameters for RandomForest: {'rf__max_depth': 10, 'rf__min_samples_split': 10, 'rf__n_estimators': 200}\n",
            "Validation F1 Score (RandomForest): 0.2923\n"
          ]
        }
      ]
    },
    {
      "cell_type": "markdown",
      "source": [
        "# _XGBoost grid parameters_"
      ],
      "metadata": {
        "id": "rMTuMta4UElD"
      }
    },
    {
      "cell_type": "code",
      "source": [
        "param_grid_xgb = {\n",
        "    'xgb__n_estimators': [100, 200, 300],\n",
        "    'xgb__max_depth': [3, 5, 7],\n",
        "    'xgb__learning_rate': [0.01, 0.1, 0.2]\n",
        "}\n",
        "\n",
        "grid_xgb = GridSearchCV(\n",
        "    pipeline_xgb,\n",
        "    param_grid=param_grid_xgb,\n",
        "    cv=StratifiedKFold(5),\n",
        "    scoring=scorer,\n",
        "    n_jobs=-1\n",
        ")\n",
        "grid_xgb.fit(X_train, y_train)\n",
        "print(\"Best parameters for XGBoost:\", grid_xgb.best_params_)\n",
        "best_xgb = grid_xgb.best_estimator_\n",
        "val_preds_xgb = best_xgb.predict(X_val)\n",
        "f1_xgb = f1_score(y_val, val_preds_xgb, zero_division=0)\n",
        "print(\"Validation F1 Score (XGBoost): {:.4f}\".format(f1_xgb))"
      ],
      "metadata": {
        "colab": {
          "base_uri": "https://localhost:8080/"
        },
        "id": "BfmCjiayUHta",
        "outputId": "4408f572-7c65-4606-a935-21fecb9cf1e8"
      },
      "execution_count": 24,
      "outputs": [
        {
          "output_type": "stream",
          "name": "stderr",
          "text": [
            "/usr/local/lib/python3.11/dist-packages/xgboost/core.py:158: UserWarning: [16:57:28] WARNING: /workspace/src/learner.cc:740: \n",
            "Parameters: { \"use_label_encoder\" } are not used.\n",
            "\n",
            "  warnings.warn(smsg, UserWarning)\n"
          ]
        },
        {
          "output_type": "stream",
          "name": "stdout",
          "text": [
            "Best parameters for XGBoost: {'xgb__learning_rate': 0.1, 'xgb__max_depth': 7, 'xgb__n_estimators': 300}\n",
            "Validation F1 Score (XGBoost): 0.2828\n"
          ]
        }
      ]
    },
    {
      "cell_type": "markdown",
      "source": [
        "# Choose the Better Model"
      ],
      "metadata": {
        "id": "tYOmMUZCU87V"
      }
    },
    {
      "cell_type": "code",
      "source": [
        "if f1_xgb >= f1_rf:\n",
        "    final_model = best_xgb\n",
        "    print(\"Choosing XGBoost as the final model.\")\n",
        "else:\n",
        "    final_model = best_rf\n",
        "    print(\"Choosing RandomForest as the final model.\")"
      ],
      "metadata": {
        "colab": {
          "base_uri": "https://localhost:8080/"
        },
        "id": "xiOBN1MEVDOW",
        "outputId": "3766df0a-0c32-4f21-9d75-aac2bca93401"
      },
      "execution_count": 25,
      "outputs": [
        {
          "output_type": "stream",
          "name": "stdout",
          "text": [
            "Choosing RandomForest as the final model.\n"
          ]
        }
      ]
    },
    {
      "cell_type": "markdown",
      "source": [
        "# Preprocess the Test Set"
      ],
      "metadata": {
        "id": "KQkng-70VMoY"
      }
    },
    {
      "cell_type": "code",
      "source": [
        "X_test = test_df.drop(columns=['SEQN'])\n",
        "X_test_imputed = pd.DataFrame(imputer.transform(X_test), columns=X_test.columns)"
      ],
      "metadata": {
        "id": "ly76wfcZVHHC"
      },
      "execution_count": 26,
      "outputs": []
    },
    {
      "cell_type": "markdown",
      "source": [
        "# Predict on the Test Set and Create Submission File"
      ],
      "metadata": {
        "id": "PyOzHJooVcF7"
      }
    },
    {
      "cell_type": "code",
      "source": [
        "final_preds = final_model.predict(X_test_imputed)\n",
        "submission = pd.DataFrame({'age_group': final_preds})\n",
        "submission.to_csv('submission.csv', index=False)\n",
        "print(\"Submission file created!\")"
      ],
      "metadata": {
        "colab": {
          "base_uri": "https://localhost:8080/"
        },
        "id": "DI3V1xkjVjtO",
        "outputId": "c620b5c9-8d65-4803-b65f-625c4ec7c23e"
      },
      "execution_count": 27,
      "outputs": [
        {
          "output_type": "stream",
          "name": "stdout",
          "text": [
            "Submission file created!\n"
          ]
        }
      ]
    }
  ]
}